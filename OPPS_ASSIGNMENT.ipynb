{
  "nbformat": 4,
  "nbformat_minor": 0,
  "metadata": {
    "colab": {
      "provenance": []
    },
    "kernelspec": {
      "name": "python3",
      "display_name": "Python 3"
    },
    "language_info": {
      "name": "python"
    }
  },
  "cells": [
    {
      "cell_type": "markdown",
      "source": [
        "1. What is Object-Oriented Programming (OOP)?\n",
        "\n",
        "   All the functions are at one place oops helps you to arrange the required functions in respective classes.oop is a programming paradigm based on the concept of objects which contain data in the form of fields also called attributes or properties and code in the form of methods .oop promotes modularity,reusability and better organization of code.\n",
        "\n",
        "2.What is a class in OOP?\n",
        "\n",
        "  In object-oriented programming(OOP),a class in python is a blueprint for creating objects.it defines a set of attributes (variables)and methods (functions)that the objects created from the class will have.\n",
        "\n",
        "\n",
        "3. What is an object in OOP ?\n",
        "  \n",
        "  An object in Oop is an instance of a class.it represents a real-world entity with attributes(data)and behaviors(methods).\n",
        "\n",
        "  Each object has :\n",
        "\n",
        "  state,behavior and identity.\n",
        "\n",
        " 4.What is the difference between abstraction and encapsulation.?\n",
        "\n",
        "   Abstraction  hiding the implementation details and showing only he neccessary features.and purpose of abstraction focuses on what an object does,rather than how it does it and implementation is achieved using abstract classes and interfaces.\n",
        "   \n",
        "   Meanwhile encapsulation hiding the intrnal data and restricting direct access to it.and protets data integrity and prevents direct modificaton and implementation achieved using access modifiers(private,protected,public)\n",
        "\n",
        "5.What are dunder methods in Python?\n",
        "\n",
        "  Dunder methods(\"double underscore methods\")are special methods in python that have names prefixed and suffixed with double underscores(__).they are also called magic methods because they allow built-in behaviors of python objects to be customized.\n",
        "\n",
        "6. Explain the concept of inheritance in OOP?\n",
        "\n",
        "   Inheritance is a fundamental concept in oop that allows a class (child/derived class)to inherit propeties and behaviors(attributes and methods)from another class(parent/base class).it enables code reuse ,reduces duplication ,and establishes a hierarchical relationship between classes .\n",
        "\n",
        "7. What is polymorphism in OOP ?\n",
        "\n",
        "  polymorphism means \"many forms\"and allows objects of different classes to be treated as objets of different classes to be treated as object of a common superclass.it enables the same method name to have different implementations in different classes ,improving flexibility and reusability of code.\n",
        "\n",
        " 8. How is encapsulation achieved in Python?\n",
        "\n",
        "   Encapsulation in python is achieved using the following techniques:\n",
        "\n",
        "   1.USING PRIVATE AND PROTECTED MEMBERS\n",
        "  \n",
        "   PRIVATE MEMBERS-(__variable):prefixing a variable with double underscoes(__)makes it a private member.it cannot be accessed directly outside the class.\n",
        "\n",
        "   PROTECTED MEMBERS(__variable):prefixing a variable with a single underscores(_)is a convention to indicate that it should not be accessed directly ,though it is still accessible.\n",
        "\n",
        "   2.USING GETTER AND SETTER METHODS\n",
        "\n",
        "   Encapsulation is enforced by providing methods to access (getter)and modify (setter)private variables safely.\n",
        "\n",
        "   3.USING PROPERTY DECORATORS(@property)\n",
        "\n",
        "   python provides the @property decorator to define getters and setters more elegantly.\n",
        "\n",
        "9. What is a constructor in Python?\n",
        "\n",
        "  A constructor in python is a special method used to initialize an object when it is created .in python,the constructor method is named __init__()and is automatically called when an object of a class is instantiated.\n",
        "\n",
        "10. What are class and static methods in Python?\n",
        "\n",
        "\n",
        "  python provide two types of special methods that are bound to a class rather than instances:\n",
        "\n",
        "  1.CLASS METHODS(@classmethod)\n",
        "\n",
        "  A clas method is bound to the class and not the instance.it takes the class itself(cls)as the first parameter and can modify class level attributes.\n",
        "\n",
        "  2.STATIC METHODS(@staticmethod)\n",
        "\n",
        "  A static method is independent of both the instance and clas .it does not take self or cls as parameters .it behvaves like a normal function but belongs to theclass namespace.\n",
        "\n",
        "11.What is method overloading in Python?\n",
        "\n",
        "   Method overloading is a feature where multiple methods in a class have the same name but different parameters .unlike languages like java or C++ python does not support traditional method overloading based on the number or type of parameters.\n",
        "\n",
        "12. What is method overriding in OOP?\n",
        "  \n",
        "   Method overriding is an oop features that allows a subclass (childclass)to provide a specific implementation of a method that is already defined in its superclass(parentclass).\n",
        "\n",
        "13.What is a property decorator in Python?\n",
        "\n",
        "  The property decoarator (@property)in python is used to define getter ,setter,and deleter methods for class attributes.it allows controlled access to private attributes while maintaininga clean and readable syntax.\n",
        "\n",
        "\n",
        "14. Why is polymorphism important in OOP?\n",
        "\n",
        "  Polymorphism is a key concept in oop that allows objects of different classes to be treated as objects of different classes to be treated as objects of common base class.it enhances flexibility,reusability,and maintainability of code.\n",
        "\n",
        "  importance of polymorphism in oop\n",
        "\n",
        "  1.CODE REUSABILITY\n",
        "\n",
        "  Polymorphism allows using the same method name for different behaviors in different classes,reducing code duplication\n",
        "\n",
        "  2.FLEXIBILITY AND SCALABILITY\n",
        "\n",
        "  New classes can be added without modifying existing code,making the system more extensible.\n",
        "\n",
        "  3.SUPPORTS METHOD OVERRIDING(Runtime polymorphism)\n",
        "\n",
        "  Method overriding allows subclasses to provide their own secific implementation f a method.\n",
        "\n",
        "15.What is an abstract class in Python?\n",
        "\n",
        "  An abstract class in python is a class that cannot be instantiated directly and is used as a  blueprint for other classes.it contains one or more abstract methods,which are methods that must implemented by any subclass.\n",
        "\n",
        "  abstract classes help enforce a common interface in an object -oriented program,ensuring that subclasses provide specific implementation.\n",
        "\n",
        "\n",
        "16.What are the advantages of OOP?\n",
        "\n",
        "   1.CODE REUSABILITY(inheritance)\n",
        "\n",
        "   Inheritance allows code reuse by enabling a child class to inherit attributes and methods from a parent class.\n",
        "\n",
        "   this reduces duplication and improves maintainabily.\n",
        "\n",
        "   2.ENCAPSULATION(data hiding and security)\n",
        "\n",
        "   Encasulation protects data by restrivting direct access to certain attributes.\n",
        "\n",
        "   this prevents unintended modifications and ehances security.\n",
        "\n",
        "   3.POLYMORPHISM(flexibility and extensibility)\n",
        "\n",
        "    Polymorphism allows objects of different classes to be treated as  objects of a common base class.\n",
        "\n",
        "    this makes code more flexible and scalable.\n",
        "\n",
        "\n",
        "17.What is the difference between a class variable and an instance variable?\n",
        "\n",
        "  CLASS VARIABLE- is shared among all instances of a class.it belongs to the class itself and not to any specific instance.\n",
        "\n",
        "  INSTANCE VARIABLE-is unique to each object (instance)of a clas it is created inside the__init__()method using self.\n",
        "\n",
        "\n",
        "18.What is multiple inheritance in Python?\n",
        "\n",
        "   multiple inheritence is a feature in python where a class .this allows a child class to inherit attributes and methods from multiple base classes,making it more flexible.\n",
        "\n",
        "19.Explain the purpose of ‘’__str__’ and ‘__repr__’ ‘ methods in Python\n",
        "\n",
        "  The __str__method is called by str (object)and functions like print(object)\n",
        "\n",
        "  1.it is meant to return a human readable representaton of the object.\n",
        "\n",
        "  2.if__str__is not defined,python falls back to __repr__\n",
        "\n",
        "\n",
        "  The __repr__method is called by repr(object)and functions like print(rept(object))\n",
        "\n",
        "  it is meant to return a developer friendly representation\n",
        "\n",
        "  it should return a string that,if passes to eval(),recreates\n",
        "  \n",
        "  the object.\n",
        "\n",
        "  if__repr__is not defined ,python uses the default implementation(memory address)\n",
        "\n",
        "20. What is the significance of the ‘super()’ function in Python?\n",
        "    \n",
        "  The super()function in python is used to call methods from a parent class,allowing for better code reuse and avoiding explicit references to parent classes.it is particularly useful in inheritance when working with method overriding.\n",
        "\n",
        "  significance of super()\n",
        "\n",
        "  1.it allows a subclass to call a method from its parent without explicity naming the parent.\n",
        "\n",
        "  2.In complex inheritance hierarchies,super()helps follow the method resolution order(MRO)to ensure correct method execution.\n",
        "\n",
        "  3.Instead of calling the parent class method manually super()ensures DRY(don't repeat yourself)principles.\n",
        "\n",
        "  4.it ensures that future modifications in parent classes automatically reflect in child classes.\n",
        "\n",
        "21. What is the significance of the __del__ method in Python?\n",
        "\n",
        "   The ___del___method in python is a destructor method that is called when an object is about to be destroyed.it is used for cleanup operations like closing files,releasing resources,or logging before an object is deleted.\n",
        "\n",
        "   significance of___del___\n",
        "\n",
        "   1.It ensures that resources (e.g.files handles,database connections)are released when an object is no longer needed.\n",
        "\n",
        "   2.Helps free memory by removing object references when they are no longer in use.\n",
        "\n",
        "   3.debugging and logging can be used to track object deletion for debugging purposes.\n",
        "\n",
        "22. What is the difference between @staticmethod and @classmethod in Python?\n",
        "\n",
        "   1.@staticmethod\n",
        "\n",
        "   does not access class or instance attributes.\n",
        "\n",
        "   works like a regular funtion inside a class but is logically grouped within it.\n",
        "\n",
        "   no need to pass self or cls as the fisrt parameter.\n",
        "\n",
        "   2.@classmethod\n",
        "\n",
        "   takes cls as the first parameter(instead of self)\n",
        "\n",
        "   can access and modify class variable but not instance-specific data.\n",
        "\n",
        "   used when you need a method that affects the class as a whole rather than individual instances.\n",
        "\n",
        "23. How does polymorphism work in Python with inheritance?\n",
        "\n",
        "   polymorphism allows different classes to define methods with the same name,but potentially different behaviour .In inheritance ,polymorphism enables subclasses to override methods from the parent class,allowing objects of different classes to be treated uniformly.\n",
        "\n",
        "24. What is method chaining in Python OOP?\n",
        "\n",
        "   Method chaining is a technique in object-oriented programming(oop)where multiple methods are called on the same object in a single statement.this is achieved by having each method return self,allowing the next method to be called directly.\n",
        "\n",
        "25. What is the purpose of the __call__ method in Python?\n",
        "\n",
        "    The ___call___method in python allows an instance of a class to be called like a function.this makes objects callable ,meaning they can be used as if they were functions while still retaining state.\n",
        "\n",
        "    purpose of ___call___\n",
        "\n",
        "    1.Allows an object to behave like function while maintaining its internal state.\n",
        "\n",
        "    2.improves code readability and reusability by encapsulating logic in a class that can be invoked directly.\n",
        "\n",
        "    3.Useful in decorators,factories,and callback functions,where objects need to be invoked dynamically.\n",
        "\n",
        "    \n",
        "\n",
        "\n",
        "\n",
        "\n",
        "   \n",
        "\n",
        "\n",
        "\n",
        "    \n",
        "\n"
      ],
      "metadata": {
        "id": "k8datM8zomMu"
      }
    },
    {
      "cell_type": "markdown",
      "source": [
        "PRACTICAL QUESTIONS\n",
        "\n",
        "1. Create a parent class Animal with a method speak() that prints a generic message. Create a child class Dog\n",
        "that overrides the speak() method to print \"Bark!\"."
      ],
      "metadata": {
        "id": "8zQHgkLt57gK"
      }
    },
    {
      "cell_type": "code",
      "source": [
        "class Animal:\n",
        "  def speak(self):\n",
        "    print(\"this animal makes a sound.\")\n",
        "class Dog(Animal):\n",
        "  def speak(self):\n",
        "    print(\"bark!\")\n",
        "dog=Dog()\n",
        "dog.speak()"
      ],
      "metadata": {
        "colab": {
          "base_uri": "https://localhost:8080/"
        },
        "id": "JKj-tu116g4q",
        "outputId": "3c397fa5-9225-4cf9-a78c-ab458b9a98d1"
      },
      "execution_count": 2,
      "outputs": [
        {
          "output_type": "stream",
          "name": "stdout",
          "text": [
            "bark!\n"
          ]
        }
      ]
    },
    {
      "cell_type": "markdown",
      "source": [
        "2. Write a program to create an abstract class Shape with a method area(). Derive classes Circle and Rectangle\n",
        "from it and implement the area() method in both."
      ],
      "metadata": {
        "id": "LCuYrcgW7Ad6"
      }
    },
    {
      "cell_type": "code",
      "source": [
        "class person:\n",
        "    count = 0\n",
        "\n",
        "    def __init__(self, name, age=None):  # Added age parameter with default value None\n",
        "        self.name = name\n",
        "        self.age = age  # Assign age if provided\n",
        "        person.count += 1\n",
        "\n",
        "    @classmethod\n",
        "    def get_person_count(cls):\n",
        "        return cls.count\n",
        "\n",
        "p1 = person(\"alice\", 30)  # Provide age when creating instances\n",
        "p2 = person(\"bob\", 25)\n",
        "p3 = person(\"charlie\", 35)\n",
        "print(person.get_person_count())"
      ],
      "metadata": {
        "colab": {
          "base_uri": "https://localhost:8080/"
        },
        "id": "9bRVfoSKrJ9L",
        "outputId": "6c78f86f-31f7-4ddf-ae23-1cd8f9fc2873"
      },
      "execution_count": 114,
      "outputs": [
        {
          "output_type": "stream",
          "name": "stdout",
          "text": [
            "3\n"
          ]
        }
      ]
    },
    {
      "cell_type": "markdown",
      "source": [
        "3. Implement a multi-level inheritance scenario where a class Vehicle has an attribute type. Derive a class Car\n",
        "and further derive a class ElectricCar that adds a battery attribute"
      ],
      "metadata": {
        "id": "LlRy0Q0X9W_w"
      }
    },
    {
      "cell_type": "code",
      "source": [
        "class vehicle:\n",
        "  def vehicle_info(self):\n",
        "    print(\"inside the vehicle class\")\n",
        "\n",
        "class car (vehicle):\n",
        "  def car_info(self):\n",
        "    print(\"inside the car class\")\n",
        "\n",
        "class electric_car(car):\n",
        "  def electric_car_info(self):\n",
        "    print(\"inside the electric car class\")\n",
        "\n",
        "class sportscar (car,vehicle):\n",
        "  def sportscar_info(self):\n",
        "     print(\"inside the sports car class\")\n",
        "\n",
        "obj1=sportscar()\n",
        "obj1.car_info()\n"
      ],
      "metadata": {
        "colab": {
          "base_uri": "https://localhost:8080/"
        },
        "id": "BasCGGdV9ZP9",
        "outputId": "65f7e385-2bf9-47b4-ed7a-3a9f13071468"
      },
      "execution_count": 24,
      "outputs": [
        {
          "output_type": "stream",
          "name": "stdout",
          "text": [
            "inside the car class\n"
          ]
        }
      ]
    },
    {
      "cell_type": "markdown",
      "source": [
        "4. Implement a multi-level inheritance scenario where a class Vehicle has an attribute type. Derive a class Car\n",
        "and further derive a class ElectricCar that adds a battery attribute."
      ],
      "metadata": {
        "id": "77XTHld8Am8V"
      }
    },
    {
      "cell_type": "code",
      "source": [
        "class vehicle:\n",
        "  def vehicle_info(self):\n",
        "    print(\"inside the vehicle class\")\n",
        "\n",
        "class car (vehicle):\n",
        "  def car_info(self):\n",
        "    print(\"inside the car class\")\n",
        "\n",
        "class electric_car(car):\n",
        "  def electric_car_info(self):\n",
        "    print(\"inside the electric car class\")\n",
        "\n",
        "class sportscar (car,vehicle):\n",
        "  def sportscar_info(self):\n",
        "     print(\"inside the sports car class\")\n",
        "\n",
        "obj1=sportscar()\n",
        "obj1.car_info()"
      ],
      "metadata": {
        "colab": {
          "base_uri": "https://localhost:8080/"
        },
        "id": "TfXqdhQ2AuOc",
        "outputId": "67ac19cb-af88-4b55-9825-bf874bcc4cd8"
      },
      "execution_count": 25,
      "outputs": [
        {
          "output_type": "stream",
          "name": "stdout",
          "text": [
            "inside the car class\n"
          ]
        }
      ]
    },
    {
      "cell_type": "markdown",
      "source": [
        "5. Write a program to demonstrate encapsulation by creating a class BankAccount with private attributes\n",
        "balance and methods to deposit, withdraw, and check balance"
      ],
      "metadata": {
        "id": "KADHis6RA6Fs"
      }
    },
    {
      "cell_type": "code",
      "source": [
        "class bank:\n",
        "  def __init__(self,balance):\n",
        "    self.__balance = balance\n",
        "  def deposit (self, amount):\n",
        "      self.__balance = self.__balance + amount\n",
        "  def withdraw (self,amount):\n",
        "      if self.__balance >=amount:\n",
        "         self.__balance = self.__balance - amount\n",
        "         return True\n",
        "      else:\n",
        "           return False\n",
        "  def get_balance(self):\n",
        "      return self.__balance"
      ],
      "metadata": {
        "id": "0EVivEDsEscI"
      },
      "execution_count": 42,
      "outputs": []
    },
    {
      "cell_type": "code",
      "source": [
        "account1=bank(1000)\n",
        "account1.get_balance()"
      ],
      "metadata": {
        "colab": {
          "base_uri": "https://localhost:8080/"
        },
        "id": "_PmpW4gdGFkN",
        "outputId": "b57ddf0c-f846-4242-adca-dbff03da2f23"
      },
      "execution_count": 43,
      "outputs": [
        {
          "output_type": "execute_result",
          "data": {
            "text/plain": [
              "1000"
            ]
          },
          "metadata": {},
          "execution_count": 43
        }
      ]
    },
    {
      "cell_type": "code",
      "source": [
        "account1.deposit(500)\n",
        "account1.get_balance()"
      ],
      "metadata": {
        "colab": {
          "base_uri": "https://localhost:8080/"
        },
        "id": "zNHeJVYCGr7z",
        "outputId": "2dc11964-38cc-4edd-be7d-c26035813746"
      },
      "execution_count": 44,
      "outputs": [
        {
          "output_type": "execute_result",
          "data": {
            "text/plain": [
              "1500"
            ]
          },
          "metadata": {},
          "execution_count": 44
        }
      ]
    },
    {
      "cell_type": "code",
      "source": [
        "account1.withdraw(100)"
      ],
      "metadata": {
        "colab": {
          "base_uri": "https://localhost:8080/"
        },
        "id": "dmbNJjXxHq_v",
        "outputId": "dc948da5-9cb3-42d0-9fb2-ce1fd577ceba"
      },
      "execution_count": 45,
      "outputs": [
        {
          "output_type": "execute_result",
          "data": {
            "text/plain": [
              "True"
            ]
          },
          "metadata": {},
          "execution_count": 45
        }
      ]
    },
    {
      "cell_type": "code",
      "source": [
        "account1.get_balance()"
      ],
      "metadata": {
        "colab": {
          "base_uri": "https://localhost:8080/"
        },
        "id": "KqOLTRa8Hxth",
        "outputId": "8adccc91-2d85-4cea-ce1f-3bd9b0bf60fc"
      },
      "execution_count": 46,
      "outputs": [
        {
          "output_type": "execute_result",
          "data": {
            "text/plain": [
              "1400"
            ]
          },
          "metadata": {},
          "execution_count": 46
        }
      ]
    },
    {
      "cell_type": "markdown",
      "source": [
        "6. Demonstrate runtime polymorphism using a method play() in a base class Instrument. Derive classes Guitar\n",
        "and Piano that implement their own version of play()."
      ],
      "metadata": {
        "id": "tfTPju9aIGnN"
      }
    },
    {
      "cell_type": "code",
      "source": [
        "class instrument:\n",
        "  def play(self):\n",
        "      print(\"this instrument makes a generic sound.\")\n",
        "\n",
        "class guitar(instrument):\n",
        "   def play(self):\n",
        "       print(\"strumming the guitar!\")\n",
        "\n",
        "class piano(instrument):\n",
        "   def play(self):\n",
        "       print(\"playing a piano keys!\")\n",
        "\n",
        "   def perform(instrument):\n",
        "       instrument.play()\n",
        "\n",
        "   if __name__==\"__main__\":\n",
        "      def play(self):\n",
        "          print(\"this instruments makes a generic sound\")\n",
        "\n",
        "      instruments = [guitar(), piano(), instrument()]\n",
        "\n",
        "      for instrument in instruments:\n",
        "          perform(instrument)"
      ],
      "metadata": {
        "colab": {
          "base_uri": "https://localhost:8080/"
        },
        "id": "_U9Gj-bgIME1",
        "outputId": "1ed9d01f-f767-4844-d382-c2af0d75322c"
      },
      "execution_count": 53,
      "outputs": [
        {
          "output_type": "stream",
          "name": "stdout",
          "text": [
            "strumming the guitar!\n",
            "this instruments makes a generic sound\n",
            "this instrument makes a generic sound.\n"
          ]
        }
      ]
    },
    {
      "cell_type": "markdown",
      "source": [
        "7. Create a class MathOperations with a class method add_numbers() to add two numbers and a static\n",
        "method subtract_numbers() to subtract two numbers"
      ],
      "metadata": {
        "id": "4MYoh6OoLzXB"
      }
    },
    {
      "cell_type": "code",
      "source": [
        "class mathoperations:\n",
        "  @classmethod\n",
        "  def add_numbers(cls, a, b):\n",
        "      return a + b\n",
        "  def subtract_numbers(a, b):\n",
        "      return a - b\n",
        "print(mathoperations.add_numbers(5,3))\n",
        "print(mathoperations.subtract_numbers(10,4))"
      ],
      "metadata": {
        "colab": {
          "base_uri": "https://localhost:8080/"
        },
        "id": "7IeqZdZzPu8f",
        "outputId": "27954903-e02d-4483-d219-1eff5c7b285b"
      },
      "execution_count": 75,
      "outputs": [
        {
          "output_type": "stream",
          "name": "stdout",
          "text": [
            "8\n",
            "6\n"
          ]
        }
      ]
    },
    {
      "cell_type": "markdown",
      "source": [
        "8. Implement a class Person with a class method to count the total number of persons created."
      ],
      "metadata": {
        "id": "av-qX2lSQrcn"
      }
    },
    {
      "cell_type": "code",
      "source": [
        "class person:\n",
        "  count = 0\n",
        "  def __init__(self, name):\n",
        "      self.name = name\n",
        "      person.count += 1\n",
        "  @classmethod\n",
        "  def get_person_count(cls):\n",
        "      return cls.count\n",
        "p1= person(\"alice\")\n",
        "p2= person(\"bob\")\n",
        "p3= person(\"charlie\")\n",
        "print(person.get_person_count())"
      ],
      "metadata": {
        "colab": {
          "base_uri": "https://localhost:8080/"
        },
        "id": "vbc3kNzsRK9c",
        "outputId": "52ad7314-8c12-412a-ac2b-8a4e4358a883"
      },
      "execution_count": 82,
      "outputs": [
        {
          "output_type": "stream",
          "name": "stdout",
          "text": [
            "3\n"
          ]
        }
      ]
    },
    {
      "cell_type": "markdown",
      "source": [
        "9. Write a class Fraction with attributes numerator and denominator. Override the str method to display the\n",
        "fraction as \"numerator/denominator\"."
      ],
      "metadata": {
        "id": "i7ksTDZKToRB"
      }
    },
    {
      "cell_type": "code",
      "source": [
        "class fraction:\n",
        "  def __init__(self, numerator, denominator):\n",
        "      if denominator == 0:\n",
        "          raise ValueError(\"denominator cannot be zero\")\n",
        "\n",
        "      self.numerator = numerator\n",
        "      self.denominator = denominator\n",
        "\n",
        "  def __str__(self):\n",
        "      return f\"{self.numerator}/{self.denominator}\"\n",
        "f = fraction(3,4)\n",
        "print(f)\n"
      ],
      "metadata": {
        "colab": {
          "base_uri": "https://localhost:8080/"
        },
        "id": "YRosCZEDWqR0",
        "outputId": "72560716-a5ff-4b0c-843e-2ac37570ccc6"
      },
      "execution_count": 93,
      "outputs": [
        {
          "output_type": "stream",
          "name": "stdout",
          "text": [
            "3/4\n"
          ]
        }
      ]
    },
    {
      "cell_type": "markdown",
      "source": [
        "10. Demonstrate operator overloading by creating a class Vector and overriding the add method to add two\n",
        "vectors."
      ],
      "metadata": {
        "id": "RWzHPh46WxAF"
      }
    },
    {
      "cell_type": "code",
      "source": [
        "class vector:\n",
        "  def __init__(self, x, y):\n",
        "      self.x = x\n",
        "      self.y = y\n",
        "\n",
        "  def __add__(self,other):\n",
        "      if not isinstance(other,vector):\n",
        "\n",
        "          raise typeerror(\"oper and must be an instance of vector\")\n",
        "      return vector(self.x + other.x,self.y + other.y)\n",
        "\n",
        "  def __str__(self):\n",
        "      return f\"({self.x},{self.y})\"\n",
        "\n",
        "v1 = vector(2,3)\n",
        "v2 = vector(4,5)\n",
        "v3 = v1 + v2\n",
        "\n",
        "print(v3)"
      ],
      "metadata": {
        "colab": {
          "base_uri": "https://localhost:8080/"
        },
        "id": "B0iNGCefW5l8",
        "outputId": "c739d26e-a3e7-4848-93f9-45828c2d7ae2"
      },
      "execution_count": 94,
      "outputs": [
        {
          "output_type": "stream",
          "name": "stdout",
          "text": [
            "(6,8)\n"
          ]
        }
      ]
    },
    {
      "cell_type": "markdown",
      "source": [
        "11. Create a class Person with attributes name and age. Add a method greet() that prints \"Hello, my name is\n",
        "{name} and I am {age} years old."
      ],
      "metadata": {
        "id": "FhWt9W9EYhmh"
      }
    },
    {
      "cell_type": "code",
      "source": [
        "class person:\n",
        "  def __init__(self, name, age):\n",
        "      self.name = name\n",
        "      self.age = age\n",
        "\n",
        "  def greet(self):\n",
        "      print(f\"hello,my name is {self.name} and i am {self.age} years old.\")\n",
        "\n",
        "p = person(\"alice\",25)\n",
        "p.greet()"
      ],
      "metadata": {
        "colab": {
          "base_uri": "https://localhost:8080/"
        },
        "id": "MmELDSUqYoqA",
        "outputId": "0180098c-618a-48cf-942c-e1fe19ba5d9c"
      },
      "execution_count": 95,
      "outputs": [
        {
          "output_type": "stream",
          "name": "stdout",
          "text": [
            "hello,my name is alice and i am 25 years old.\n"
          ]
        }
      ]
    },
    {
      "cell_type": "markdown",
      "source": [
        "12. Implement a class Student with attributes name and grades. Create a method average_grade() to compute\n",
        "the average of the grades."
      ],
      "metadata": {
        "id": "b34lzbrAZfjA"
      }
    },
    {
      "cell_type": "code",
      "source": [
        "class student:\n",
        "  def __init__(self, name, grades):\n",
        "      self.name = name\n",
        "      self.grades = grades\n",
        "  def average_grade(self):\n",
        "      if len(self.grades) == 0:\n",
        "          return 0\n",
        "      return sum(self.grades) / len(self.grades)\n",
        "\n",
        "student1=student(\"Alice\", [85, 90, 78, 92, 88])\n",
        "\n",
        "average = student1.average_grade()\n",
        "print(f\"{student1.name}'s average grade is: {average}\")"
      ],
      "metadata": {
        "colab": {
          "base_uri": "https://localhost:8080/"
        },
        "id": "x88ksOYuZjhk",
        "outputId": "c1dbb265-04c6-4c07-fde0-87dd0c2b6bfa"
      },
      "execution_count": 98,
      "outputs": [
        {
          "output_type": "stream",
          "name": "stdout",
          "text": [
            "Alice's average grade is: 86.6\n"
          ]
        }
      ]
    },
    {
      "cell_type": "markdown",
      "source": [
        "13. Create a class Rectangle with methods set_dimensions() to set the dimensions and area() to calculate the\n",
        "area."
      ],
      "metadata": {
        "id": "n37UgzAWZpsG"
      }
    },
    {
      "cell_type": "code",
      "source": [
        "class rectangle:\n",
        "  def __init__(self,length=0,width=0):\n",
        "      self.length = length\n",
        "      self.width = width\n",
        "\n",
        "  def set_dimensions(self, length, width):\n",
        "      self.length = length\n",
        "      self.width = width\n",
        "\n",
        "  def area(self):\n",
        "      return self.length * self.width\n",
        "\n",
        "rect=rectangle()\n",
        "rect.set_dimensions(5,10)\n",
        "print(f\"area of rectangle: {rect.area()}\")\n"
      ],
      "metadata": {
        "colab": {
          "base_uri": "https://localhost:8080/"
        },
        "id": "xitnRVGoZ0HB",
        "outputId": "1f81ad21-360b-46db-c014-da4ec465f199"
      },
      "execution_count": 97,
      "outputs": [
        {
          "output_type": "stream",
          "name": "stdout",
          "text": [
            "area of rectangle: 50\n"
          ]
        }
      ]
    },
    {
      "cell_type": "markdown",
      "source": [
        "14. Create a class Employee with a method calculate_salary() that computes the salary based on hours worked\n",
        "and hourly rate. Create a derived class Manager that adds a bonus to the salary."
      ],
      "metadata": {
        "id": "nofkFm9kc4tK"
      }
    },
    {
      "cell_type": "code",
      "source": [
        "class employee:\n",
        "  def __init__(self, name, hours_worked, hourly_rate):\n",
        "      self.name = name\n",
        "      self.hours_worked = hours_worked\n",
        "      self.hourly_rate = hourly_rate\n",
        "\n",
        "  def calculate_salary(self):\n",
        "      return self.hours_worked * self.hourly_rate\n",
        "\n",
        "# Define manager outside employee class\n",
        "class manager(employee):\n",
        "    def __init__(self, name, hours_worked, hourly_rate, bonus):\n",
        "        super().__init__(name, hours_worked, hourly_rate)\n",
        "        self.bonus = bonus\n",
        "\n",
        "    def calculate_salary(self):\n",
        "        # Include bonus in manager salary calculation\n",
        "        return super().calculate_salary() + self.bonus # Call parent class calculate salary and add bonus\n",
        "\n",
        "emp = employee(\"john\", 40, 20)\n",
        "mgr = manager(\"alice\", 40, 20,500)\n",
        "\n",
        "print(emp.calculate_salary())\n",
        "print(mgr.calculate_salary())"
      ],
      "metadata": {
        "colab": {
          "base_uri": "https://localhost:8080/"
        },
        "id": "jiDhdW3jfIF6",
        "outputId": "c36536d2-b9ea-4b0e-97bf-479c79a77a74"
      },
      "execution_count": 102,
      "outputs": [
        {
          "output_type": "stream",
          "name": "stdout",
          "text": [
            "800\n",
            "1300\n"
          ]
        }
      ]
    },
    {
      "cell_type": "markdown",
      "source": [
        "15. Create a class Product with attributes name, price, and quantity. Implement a method total_price() that\n",
        "calculates the total price of the product."
      ],
      "metadata": {
        "id": "UTidd3lqfmYM"
      }
    },
    {
      "cell_type": "code",
      "source": [
        "class product:\n",
        "  def __init__(self, name, price, quantity):\n",
        "      self.name = name\n",
        "      self.price = price\n",
        "      self.quantity = quantity\n",
        "\n",
        "  def total_price(self):\n",
        "      return self.price * self.quantity\n",
        "\n",
        "product1 = product(\"laptop\",1000,3)\n",
        "print(f\"total price for {product1.quantity} {product1.name}(s): ${product1.total_price()}\")\n"
      ],
      "metadata": {
        "colab": {
          "base_uri": "https://localhost:8080/"
        },
        "id": "QjnudoWCfr_Z",
        "outputId": "b0cdacde-a6fd-4aaa-e390-71c5a2d8ffea"
      },
      "execution_count": 103,
      "outputs": [
        {
          "output_type": "stream",
          "name": "stdout",
          "text": [
            "total price for 3 laptop(s): $3000\n"
          ]
        }
      ]
    },
    {
      "cell_type": "markdown",
      "source": [
        "16. Create a class Animal with an abstract method sound(). Create two derived classes Cow and Sheep that\n",
        "implement the sound() method."
      ],
      "metadata": {
        "id": "QJwHy9QLjJAS"
      }
    },
    {
      "cell_type": "code",
      "source": [
        "from abc import ABC, abstractmethod\n",
        "\n",
        "class animal(ABC):\n",
        "  @abstractmethod\n",
        "  def sound(self):\n",
        "      pass\n",
        "\n",
        "class cow(animal):\n",
        "  def sound(self):\n",
        "      return \"moo\"\n",
        "\n",
        "class sheep(animal):\n",
        "  def sound(self):\n",
        "      return \"Baa\"\n",
        "\n",
        "cow = cow()\n",
        "sheep = sheep()\n",
        "\n",
        "print(f\"the cow says: {cow.sound()}\")\n",
        "print(f\"the sheep says: {sheep.sound()}\")\n"
      ],
      "metadata": {
        "colab": {
          "base_uri": "https://localhost:8080/"
        },
        "id": "iNvGdeRJlcY1",
        "outputId": "0d1c95f2-4852-4e90-f38b-529d837a7a95"
      },
      "execution_count": 105,
      "outputs": [
        {
          "output_type": "stream",
          "name": "stdout",
          "text": [
            "the cow says: moo\n",
            "the sheep says: Baa\n"
          ]
        }
      ]
    },
    {
      "cell_type": "markdown",
      "source": [
        "17. Create a class Book with attributes title, author, and year_published. Add a method get_book_info() that\n",
        "returns a formatted string with the book's details."
      ],
      "metadata": {
        "id": "tLrPWfKyl_Nr"
      }
    },
    {
      "cell_type": "code",
      "source": [
        "class book:\n",
        "  def __init__(self, title, author, year_published):\n",
        "      self.title = title\n",
        "      self.author = author\n",
        "      self.year_published = year_published\n",
        "\n",
        "  def get_book_info(self):\n",
        "      return f\"'{self.title}'by{self.author},published in {self.year_published}\"\n",
        "\n",
        "book1 = book(\"to kill a mockingbird\",\"harper lee\", 1960)\n",
        "print(book1.get_book_info())"
      ],
      "metadata": {
        "colab": {
          "base_uri": "https://localhost:8080/"
        },
        "id": "_MlC4m_7mEUn",
        "outputId": "0e93c6a6-9f0e-4a47-8924-8108f8d5c8f9"
      },
      "execution_count": 107,
      "outputs": [
        {
          "output_type": "stream",
          "name": "stdout",
          "text": [
            "'to kill a mockingbird'byharper lee,published in 1960\n"
          ]
        }
      ]
    },
    {
      "cell_type": "markdown",
      "source": [
        "18. Create a class House with attributes address and price. Create a derived class Mansion that adds an\n",
        "attribute number_of_rooms."
      ],
      "metadata": {
        "id": "PMQZ103xn59_"
      }
    },
    {
      "cell_type": "code",
      "source": [
        "class house:\n",
        "  def __init__(self, address, price):\n",
        "      self.address = address\n",
        "      self.price = price\n",
        "\n",
        "  def get_info(self):\n",
        "      return f\"address: {self.address}, price: ${self.price}\"\n",
        "\n",
        "class mansion(house):\n",
        "  def __init__(self, address, price,number_of_rooms): # Corrected to __init__\n",
        "      super().__init__(address,price) # Corrected spelling to address\n",
        "      self.number_of_rooms = number_of_rooms\n",
        "\n",
        "  def get_info(self):\n",
        "      base_info =super().get_info()\n",
        "      return f\"{base_info}, number of rooms: {self.number_of_rooms}\"\n",
        "\n",
        "house1 = house(\"123 maple street\",250000)\n",
        "mansion1 = mansion(\"456 oak avenue\", 1000000, 12)  # Create an instance of mansion\n",
        "print(mansion1.get_info())  # Call get_info() on the instance\n"
      ],
      "metadata": {
        "colab": {
          "base_uri": "https://localhost:8080/"
        },
        "id": "7lXVNAK4qdaM",
        "outputId": "b526ea85-f27b-4575-f669-389c5b9ca214"
      },
      "execution_count": 112,
      "outputs": [
        {
          "output_type": "stream",
          "name": "stdout",
          "text": [
            "address: 456 oak avenue, price: $1000000, number of rooms: 12\n"
          ]
        }
      ]
    }
  ]
}